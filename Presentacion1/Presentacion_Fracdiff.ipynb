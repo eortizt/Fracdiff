{
 "cells": [
  {
   "cell_type": "markdown",
   "metadata": {
    "slideshow": {
     "slide_type": "slide"
    }
   },
   "source": [
    "# <center> Diferenciación Fraccional</center>\n",
    "---\n",
    "### <center>Esteban Ortiz Tirado González</center>\n",
    "\n",
    "<img src=\"iteso.png\" align=\"center\"/>\n",
    "\n",
    "\n",
    "##### <center>PAP - PROGRAMA DE MODELACION MATEMATICA PARA EL DESARROLLO DE PLANES Y PROYECTOS DE NEGOCIO</center>\n",
    "#### <center>Otoño 2020</center>"
   ]
  },
  {
   "cell_type": "markdown",
   "metadata": {
    "slideshow": {
     "slide_type": "slide"
    }
   },
   "source": [
    "## <center> Conextualización </center>\n",
    "\n",
    "En este proyecto del PAP, uno de los objetivos generales es construir un modelo de Machine Learning (ML) para el pronóstico de series de tiempo financieras.\n",
    "\n",
    "Dicho modelo será un **Perceptrón Multicapa**, pero ¿qué es eso?\n",
    "\n",
    "---\n"
   ]
  },
  {
   "attachments": {},
   "cell_type": "markdown",
   "metadata": {
    "slideshow": {
     "slide_type": "subslide"
    }
   },
   "source": [
    "### <center> Perceptrón Multicapa</center>\n",
    "\n",
    "<img src=\"perceptronmulti.png\" align=\"center\"/>\n",
    "    \n",
    "<center>https://cursospython.com/redes-neuronales/</center>\n",
    "\n",
    "\n",
    "\n",
    "**Características Principales**\n",
    "\n",
    "- Utilizada para **clasificar** datos que no son linealmente separables\n",
    "- Minimiza la función Log-loss\n",
    "- Una capa de entrada, n capas ocultas, una sola salida\n"
   ]
  },
  {
   "attachments": {},
   "cell_type": "markdown",
   "metadata": {
    "slideshow": {
     "slide_type": "subslide"
    }
   },
   "source": [
    "### <center> Clasificación de Datos</center>\n",
    "    \n",
    "<img src=\"clasificacion.png\" align=\"center\"/>\n",
    "\n",
    "<center>https://towardsdatascience.com/intuition-behind-model-fitting-overfitting-v-s-underfitting-d308c21655c7</center>\n",
    "\n",
    "<br/>\n",
    "\n",
    "Al tratarse de un modelo predictivo, la **memoria** de la serie de tiempo utilizada para entrenar al modelo se vuelve extremadamente importante"
   ]
  },
  {
   "cell_type": "markdown",
   "metadata": {
    "slideshow": {
     "slide_type": "slide"
    }
   },
   "source": [
    "## <center>¿Qué tiene que ver todo esto con diferenciación fraccional?\n",
    "\n",
    "- Una práctica común en ML es pre-procesar los datos para que la serie con la que se va a trabajar sea estacionaria (media y varianza constante)\n",
    "\n",
    "- Sabemos que las series financieras no son estacionarias (en la gran mayoría de los casos)\n",
    "\n",
    "- La forma más popular de convertir una serie no estacionaria en estacionaria es mediante las diferencias, es decir los rendimientos (naturales o logarítmicos)\n",
    "\n",
    "- Al hacer esto, se pierde casi por completo la **memoria** de la serie\n",
    "\n",
    "- Las series financieras tienen memoria, lo cual es importante considerar si lo que queremos es hacer predicciones sobre ella\n",
    "\n",
    "- Entonces, si **ganamos estacionariedad perdemos memoria**, pero si conservamos memoria no tenemos estacionariedad\n",
    "\n",
    "#### <center>¿Habrá una manera de diferenciar, tal que obtengamos una serie estacionaria y conservemos la memoria de la serie original? "
   ]
  },
  {
   "cell_type": "markdown",
   "metadata": {
    "slideshow": {
     "slide_type": "slide"
    }
   },
   "source": [
    "## <center> Recordando Conceptos\n",
    "    \n",
    "---\n",
    "\n",
    "### <center><font color='green'>Serie de Taylor</font>\n",
    "\n",
    "Una Serie de Taylor es una aproximación mediante la expansión polinomial de una función, evaluada en un punto específico\n",
    "\n",
    "#### Fórmula\n",
    "\n",
    "<center>$f(a) + \\frac{f'(a)}{1!}(x-a) + \\frac{f''(a)}{2!}(x-a)^{2} + \\frac{f'''(a)}{3!}(x-a)^{3} + ...$</center>\n",
    "\n",
    "\n",
    "#### Simplificación\n",
    "\n",
    "<center>$\\sum\\limits_{n=0}^{\\infty} \\frac{f^{n}(a)}{n!}(x-a)^{n}$\n",
    "\n",
    "\n",
    "\n",
    "\n",
    "\n"
   ]
  },
  {
   "cell_type": "markdown",
   "metadata": {
    "slideshow": {
     "slide_type": "subslide"
    }
   },
   "source": [
    "### <center><font color='green'>Operador Rezago</font>\n",
    "\n",
    "Sea **B** el operador rezago, con las siguientes propiedades:\n",
    "\n",
    "- $B*B = B^{2}$\n",
    "\n",
    "- $B+B = 2B$\n",
    "\n",
    "- $B^{k}X_{t} = X_{t-k}$ , for $t>k$ and for all integers $k>0$\n",
    "\n",
    "<br/>\n",
    "\n",
    "Ejemplo: $B$ aplicado a una serie de tiempo $X$ \n",
    "\n",
    "<center>$(I-B)X_{t} = X_{t} - BX_{t} = X_{t} - X_{t-1}$\n"
   ]
  },
  {
   "cell_type": "markdown",
   "metadata": {
    "slideshow": {
     "slide_type": "subslide"
    }
   },
   "source": [
    "Uniendo los conceptos de expansión mediante Serie de Taylor, y el operador rezago $B$ obtenemos lo siguiente:\n",
    "\n",
    "<center>$(1-B)^{d} = 1 - dB + \\frac{d(d-1)}{2!}B^{2} - \\frac{d(d-1)(d-2)}{3!}B^{3} + ...$\n",
    "    \n",
    "Donde $(1-B)^{d}$ es la **diferenciación** de una serie y $d$ representa el factor de diferenciación que estamos aplicando\n",
    "    \n",
    "<br/>\n",
    "\n",
    "Por lo tanto, los **coeficientes** de cada $B^{n}$ se pueden expresar como\n",
    "\n",
    "<center> $w_{k} = -w_{k-1}\\frac{d-k+1}{k}$\n",
    "    \n",
    "Lo cual nos permite utilizar un numero entre $(0,1)$ para el grado de diferenciación $d$ \n"
   ]
  },
  {
   "attachments": {},
   "cell_type": "markdown",
   "metadata": {
    "slideshow": {
     "slide_type": "slide"
    }
   },
   "source": [
    "## <center>Aplicación en Series Financieras</center>\n",
    "\n",
    "Ya tenemos la teoría necesaria para encontrar los pesos por los que hay que multiplicar cada obseravción de la serie y diferenciarla fraccionalmente.\n",
    "\n",
    "<font color='green'>Objetivo:</font> Obtener una serie **estacionaria** que preserve su **memoria** de largo plazo para entrenar nuestro modelo\n",
    "\n",
    "<font color='green'>Cómo medirlo:</font> Mantener la **mayor** correlación posible entre la serie original y su diferencia y que la prueba ADF sea **menor** al valor límite para cierto nivel de confianza\n",
    "    \n",
    "<img src=\"msftprice.png\" align=\"center\"/>"
   ]
  },
  {
   "attachments": {},
   "cell_type": "markdown",
   "metadata": {
    "slideshow": {
     "slide_type": "subslide"
    }
   },
   "source": [
    "## <center>¿Solución?</center>\n",
    "<img src=\"msftret.png\" align=\"center\"/>"
   ]
  },
  {
   "cell_type": "code",
   "execution_count": 1,
   "metadata": {
    "slideshow": {
     "slide_type": "subslide"
    }
   },
   "outputs": [],
   "source": [
    "# Librerías necesarias\n",
    "import yfinance as yf\n",
    "import pandas as pd\n",
    "import numpy as np\n",
    "import matplotlib.pyplot as plt\n",
    "from statsmodels.tsa.stattools import adfuller\n",
    "%matplotlib inline"
   ]
  },
  {
   "cell_type": "code",
   "execution_count": 2,
   "metadata": {
    "slideshow": {
     "slide_type": "subslide"
    }
   },
   "outputs": [],
   "source": [
    "# Descarga de datos\n",
    "msft = yf.Ticker('MSFT')\n",
    "hist = msft.history(period='10y')\n",
    "close = pd.DataFrame(np.log(hist.Close))"
   ]
  },
  {
   "cell_type": "code",
   "execution_count": 3,
   "metadata": {
    "slideshow": {
     "slide_type": "subslide"
    }
   },
   "outputs": [],
   "source": [
    "# Calcular vector w de pesos\n",
    "# Se incorpora un limite de valor para el peso (threshold) porque en teoría la serie es infinita\n",
    "def findWeights_FFD(d, length, threshold):\n",
    "    #set first weight to be a 1 and k to be 1\n",
    "    w, k = [1.], 1\n",
    "    w_curr = 1\n",
    "    #while we still have more weights to process, do the following:\n",
    "    while(k < length):\n",
    "        w_curr = (-w[-1]*(d-k+1))/k\n",
    "        #if the current weight is below threshold, exit loop\n",
    "        if(abs(w_curr) <= threshold):\n",
    "            break\n",
    "        #append coefficient to list if it passes above threshold condition\n",
    "        w.append(w_curr)\n",
    "        #increment k\n",
    "        k += 1\n",
    "    #make sure to convert it into a numpy array and reshape from a single row to a single\n",
    "    # column so they can be applied to time-series values easier\n",
    "    w = np.array(w[::-1]).reshape(-1,1)\n",
    "    return w"
   ]
  },
  {
   "cell_type": "code",
   "execution_count": 4,
   "metadata": {
    "slideshow": {
     "slide_type": "subslide"
    }
   },
   "outputs": [],
   "source": [
    "# Diferenciacion Fraccional\n",
    "def fracdiff_threshold(series, d, threshold):\n",
    "    # return the time series resulting from (fractional) differencing\n",
    "    length = len(series)\n",
    "    weights=findWeights_FFD(d, length, threshold)\n",
    "    weights = weights[::-1]\n",
    "    res=0\n",
    "    for k in range(len(weights)):\n",
    "        res += weights[k]*series.shift(k).fillna(0)\n",
    "    return res[len(weights):]"
   ]
  },
  {
   "cell_type": "code",
   "execution_count": 12,
   "metadata": {
    "slideshow": {
     "slide_type": "subslide"
    }
   },
   "outputs": [],
   "source": [
    "# Prueba de correlacion y estacionariedad\n",
    "# Se usa ADF para la prueba de estacionariedad\n",
    "# Muestra de que con d<1 se obtiene estacionariedad y se mantiene una correlación muy alta\n",
    "def corrvalues(series, dRange, step, threshold):\n",
    "    difs = pd.DataFrame(series.Close)\n",
    "    for i in np.arange(dRange[0], dRange[1]+step,step):\n",
    "      difs['Diff %s'%i] = fracdiff_threshold(close,i,threshold) # Where to set the threshold? More history allows smaller threshold (making the series bigger)\n",
    "    corr_series = difs.corr().Close\n",
    "    return corr_series\n",
    "\n",
    "\n",
    "def plotMemoryVsCorr(result, seriesName):\n",
    "    fig, ax = plt.subplots(figsize=(14,7))\n",
    "    ax2 = ax.twinx()  \n",
    "    color1='xkcd:deep red'; color2='xkcd:cornflower blue'\n",
    "    ax.plot(result.order,result['adf'],color=color1)\n",
    "    ax.plot(result.order, result['5%'], color='xkcd:slate')\n",
    "    ax.plot(result.order, result['1%'], color='xkcd:slate')\n",
    "    ax2.plot(result.order,result['corr'], color=color2)\n",
    "    ax.set_xlabel('Order of differencing')\n",
    "    ax.set_ylabel('ADF', color=color1);ax.tick_params(axis='y', labelcolor=color1)\n",
    "    ax2.set_ylabel('Corr', color=color2); ax2.tick_params(axis='y', labelcolor=color2)\n",
    "    plt.title('ADF test statistics and Correlation for %s' % (seriesName))\n",
    "    plt.show()"
   ]
  },
  {
   "cell_type": "code",
   "execution_count": 6,
   "metadata": {
    "slideshow": {
     "slide_type": "subslide"
    }
   },
   "outputs": [],
   "source": [
    "def MemoryVsCorr(series, dRange, step, threshold):\n",
    "    # return a data frame and plot comparing adf statistics and linear correlation\n",
    "    # for numberPlots orders of differencing in the interval dRange up to a lag_cutoff coefficients\n",
    "    corr_series = corrvalues(series, dRange, step, threshold)\n",
    "    interval=np.arange(dRange[0], dRange[1]+step,step)\n",
    "    result=pd.DataFrame(np.zeros((len(interval),4)))\n",
    "    result.columns = ['order','adf','corr', '5%']\n",
    "    result['order']=interval\n",
    "    for counter,order in enumerate(interval):\n",
    "        seq_traf=fracdiff_threshold(close,order,threshold)\n",
    "        res=adfuller(seq_traf, maxlag=1, regression='c') #autolag='AIC'\n",
    "        result.loc[counter,'adf']=res[0]\n",
    "        result.loc[counter,'5%']=res[4]['5%']\n",
    "        result.loc[counter,'1%']=res[4]['1%']\n",
    "        result.loc[counter,'corr']= corr_series[counter+1]\n",
    "    plotMemoryVsCorr(result, 'MSFT')\n",
    "    return result"
   ]
  },
  {
   "cell_type": "markdown",
   "metadata": {
    "slideshow": {
     "slide_type": "slide"
    }
   },
   "source": [
    "## <center>Resultados"
   ]
  },
  {
   "cell_type": "code",
   "execution_count": 13,
   "metadata": {
    "slideshow": {
     "slide_type": "-"
    }
   },
   "outputs": [
    {
     "data": {
      "image/png": "[encoded data removed]",
      "text/plain": [
       "<Figure size 1008x504 with 2 Axes>"
      ]
     },
     "metadata": {
      "needs_background": "light"
     },
     "output_type": "display_data"
    }
   ],
   "source": [
    "df = MemoryVsCorr(close,(0,1),0.1,1e-4)"
   ]
  },
  {
   "cell_type": "code",
   "execution_count": 14,
   "metadata": {
    "slideshow": {
     "slide_type": "subslide"
    }
   },
   "outputs": [
    {
     "data": {
      "text/html": [
       "<div>\n",
       "<style scoped>\n",
       "    .dataframe tbody tr th:only-of-type {\n",
       "        vertical-align: middle;\n",
       "    }\n",
       "\n",
       "    .dataframe tbody tr th {\n",
       "        vertical-align: top;\n",
       "    }\n",
       "\n",
       "    .dataframe thead th {\n",
       "        text-align: right;\n",
       "    }\n",
       "</style>\n",
       "<table border=\"1\" class=\"dataframe\">\n",
       "  <thead>\n",
       "    <tr style=\"text-align: right;\">\n",
       "      <th></th>\n",
       "      <th>order</th>\n",
       "      <th>adf</th>\n",
       "      <th>corr</th>\n",
       "      <th>5%</th>\n",
       "      <th>1%</th>\n",
       "    </tr>\n",
       "  </thead>\n",
       "  <tbody>\n",
       "    <tr>\n",
       "      <th>0</th>\n",
       "      <td>0.0</td>\n",
       "      <td>0.669025</td>\n",
       "      <td>1.000000</td>\n",
       "      <td>-2.862690</td>\n",
       "      <td>-3.432953</td>\n",
       "    </tr>\n",
       "    <tr>\n",
       "      <th>1</th>\n",
       "      <td>0.1</td>\n",
       "      <td>-0.477880</td>\n",
       "      <td>0.998831</td>\n",
       "      <td>-2.862977</td>\n",
       "      <td>-3.433603</td>\n",
       "    </tr>\n",
       "    <tr>\n",
       "      <th>2</th>\n",
       "      <td>0.2</td>\n",
       "      <td>-1.463356</td>\n",
       "      <td>0.992453</td>\n",
       "      <td>-2.862973</td>\n",
       "      <td>-3.433593</td>\n",
       "    </tr>\n",
       "    <tr>\n",
       "      <th>3</th>\n",
       "      <td>0.3</td>\n",
       "      <td>-2.952542</td>\n",
       "      <td>0.975962</td>\n",
       "      <td>-2.862899</td>\n",
       "      <td>-3.433427</td>\n",
       "    </tr>\n",
       "    <tr>\n",
       "      <th>4</th>\n",
       "      <td>0.4</td>\n",
       "      <td>-5.281578</td>\n",
       "      <td>0.935720</td>\n",
       "      <td>-2.862835</td>\n",
       "      <td>-3.433281</td>\n",
       "    </tr>\n",
       "    <tr>\n",
       "      <th>5</th>\n",
       "      <td>0.5</td>\n",
       "      <td>-8.816548</td>\n",
       "      <td>0.856897</td>\n",
       "      <td>-2.862789</td>\n",
       "      <td>-3.433177</td>\n",
       "    </tr>\n",
       "    <tr>\n",
       "      <th>6</th>\n",
       "      <td>0.6</td>\n",
       "      <td>-13.644836</td>\n",
       "      <td>0.726848</td>\n",
       "      <td>-2.862757</td>\n",
       "      <td>-3.433105</td>\n",
       "    </tr>\n",
       "    <tr>\n",
       "      <th>7</th>\n",
       "      <td>0.7</td>\n",
       "      <td>-19.504004</td>\n",
       "      <td>0.554513</td>\n",
       "      <td>-2.862736</td>\n",
       "      <td>-3.433056</td>\n",
       "    </tr>\n",
       "    <tr>\n",
       "      <th>8</th>\n",
       "      <td>0.8</td>\n",
       "      <td>-26.046957</td>\n",
       "      <td>0.374201</td>\n",
       "      <td>-2.862719</td>\n",
       "      <td>-3.433020</td>\n",
       "    </tr>\n",
       "    <tr>\n",
       "      <th>9</th>\n",
       "      <td>0.9</td>\n",
       "      <td>-32.324581</td>\n",
       "      <td>0.213200</td>\n",
       "      <td>-2.862707</td>\n",
       "      <td>-3.432992</td>\n",
       "    </tr>\n",
       "    <tr>\n",
       "      <th>10</th>\n",
       "      <td>1.0</td>\n",
       "      <td>-58.331445</td>\n",
       "      <td>0.032274</td>\n",
       "      <td>-2.862690</td>\n",
       "      <td>-3.432953</td>\n",
       "    </tr>\n",
       "  </tbody>\n",
       "</table>\n",
       "</div>"
      ],
      "text/plain": [
       "    order        adf      corr        5%        1%\n",
       "0     0.0   0.669025  1.000000 -2.862690 -3.432953\n",
       "1     0.1  -0.477880  0.998831 -2.862977 -3.433603\n",
       "2     0.2  -1.463356  0.992453 -2.862973 -3.433593\n",
       "3     0.3  -2.952542  0.975962 -2.862899 -3.433427\n",
       "4     0.4  -5.281578  0.935720 -2.862835 -3.433281\n",
       "5     0.5  -8.816548  0.856897 -2.862789 -3.433177\n",
       "6     0.6 -13.644836  0.726848 -2.862757 -3.433105\n",
       "7     0.7 -19.504004  0.554513 -2.862736 -3.433056\n",
       "8     0.8 -26.046957  0.374201 -2.862719 -3.433020\n",
       "9     0.9 -32.324581  0.213200 -2.862707 -3.432992\n",
       "10    1.0 -58.331445  0.032274 -2.862690 -3.432953"
      ]
     },
     "execution_count": 14,
     "metadata": {},
     "output_type": "execute_result"
    }
   ],
   "source": [
    "df"
   ]
  },
  {
   "cell_type": "code",
   "execution_count": 20,
   "metadata": {
    "slideshow": {
     "slide_type": "subslide"
    }
   },
   "outputs": [
    {
     "data": {
      "image/png": "[encoded data removed]",
      "text/plain": [
       "<Figure size 1152x432 with 2 Axes>"
      ]
     },
     "metadata": {
      "needs_background": "light"
     },
     "output_type": "display_data"
    }
   ],
   "source": [
    "plt.figure(figsize=(16,6))\n",
    "plt.subplot(1,2,1)\n",
    "plt.plot(close)\n",
    "plt.title('MSFT Log Prices')\n",
    "plt.subplot(1,2,2)\n",
    "plt.plot(fracdiff_threshold(close,0.33,1e-4))\n",
    "plt.title('MSFT Fracdiff Log Prices')\n",
    "plt.show()"
   ]
  },
  {
   "cell_type": "markdown",
   "metadata": {
    "slideshow": {
     "slide_type": "slide"
    }
   },
   "source": [
    "## <center>Implementación"
   ]
  },
  {
   "cell_type": "code",
   "execution_count": 1,
   "metadata": {
    "slideshow": {
     "slide_type": "-"
    }
   },
   "outputs": [],
   "source": [
    "def least_diff(series, dRange: tuple, step, threshold, confidence: str):\n",
    "    '''Function to fractionally differentiate a series using the minimum degree\n",
    "    possible to make the series stationary.\n",
    "    Stationarity is determined using ADF test\n",
    "    Returns result as a DataFrame with the order of differentiation, the ADF test\n",
    "    and the threshold value for the confidence interval used\n",
    "    It also returns the differentiated series as a DataFrame\n",
    "    '''\n",
    "    interval=np.arange(dRange[0], dRange[1]+step,step)\n",
    "    result=pd.DataFrame(columns = ['order','adf', confidence])\n",
    "    deg = interval[0]\n",
    "    seq_traf=fracdiff_threshold(series,deg,threshold)\n",
    "    res=adfuller(seq_traf, maxlag=1, regression='c') #autolag='AIC'\n",
    "    while res[0]>res[4][confidence]:\n",
    "      deg += step\n",
    "      res=adfuller(fracdiff_threshold(series,deg,threshold), maxlag=1, regression='c')\n",
    "    interval=np.arange(deg-step, deg, step/10)\n",
    "    deg = interval[0]\n",
    "    seq_traf=fracdiff_threshold(series,deg,threshold)\n",
    "    res=adfuller(seq_traf, maxlag=1, regression='c') #autolag='AIC'\n",
    "    while res[0]>res[4][confidence]:\n",
    "      deg += step/10\n",
    "      seq_traf=fracdiff_threshold(series,deg,threshold)\n",
    "      res=adfuller(seq_traf, maxlag=1, regression='c')\n",
    "    result['order']=[deg]\n",
    "    result['adf']=[res[0]]\n",
    "    result[confidence]=[res[4][confidence]]\n",
    "      \n",
    "    return result,seq_traf\n"
   ]
  },
  {
   "cell_type": "markdown",
   "metadata": {
    "slideshow": {
     "slide_type": "slide"
    }
   },
   "source": [
    "## <center>Conclusiones\n",
    "\n",
    "- No es necesario diferenciar con $d=1$ para que la serie sea estacionaria\n",
    "- Entre menor sea $d$, mayor es la correlación con la serie original (Obvio, ese fue el punto de partida)\n",
    "- Sorprendentemente no es una técnica muy usada\n",
    "- La teoría del mercado eficiente es quizá atribuible, en parte, a la eliminación de información en el procesado de datos\n",
    "- La diferenciación fraccional es una (de muchas) herramienta para generar variables endógenas (feature engineering) con poder predictivo\n",
    "\n",
    "### <center>¿Dudas?\n",
    "\n",
    "## <center> ¡Gracias!\n",
    "    \n",
    "**Material disponible en:** https://github.com/eortizt/Fracdiff\n",
    "    \n",
    "**Contacto:** esteban.otg@gmail.com / if708924@iteso.mx"
   ]
  },
  {
   "cell_type": "markdown",
   "metadata": {
    "slideshow": {
     "slide_type": "slide"
    }
   },
   "source": [
    "## <center>Referencias\n",
    "\n",
    "- Lopez de Prado, M. (2018). Fractionally Differentiated Features. In Advances in Financial Machine Learning (1st ed., pp. 75–90). Wiley.\n",
    "\n",
    "- Godoy, D. (2019, February 7). Understanding binary cross-entropy / log loss: a visual explanation. Medium. https://towardsdatascience.com/understanding-binary-cross-entropy-log-loss-a-visual-explanation-a3ac6025181a#:%7E:text=Loss%20Function%3A%20Binary%20Cross%2DEntropy%20%2F%20Log%20Loss&text=Reading%20this%20formula%2C%20it%20tells,point%20(y%3D0).a3ac6025181a#:~:text=Loss%20Function%3A%20Binary%20Cross%2DEntropy%20%2F%20Log%20Loss&text=Reading%20this%20formula%2C%20it%20tells,point%20(y%3D0).\n",
    "\n",
    "- A. (2020, May 25). Redes Neuronales: Qué son, el perceptrón y ejemplos. Cursos Python. https://cursospython.com/redes-neuronales/\n",
    "\n",
    "- Amarnani, D. (2019, February 8). Welcome and Introduction to Fractional Differencing (FD Part 1). KidQuant. http://kidquant.blogspot.com/2019/02/welcome-and-introduction-to-fractional.html\n",
    "\n",
    "- Amarnani, D. (2019, February 12). Fractional Differencing Derivation (FD Part 2). KidQuant.\n",
    "http://kidquant.blogspot.com/2019/02/fractional-differencing-derivation.html\n",
    "\n",
    "- Amarnani, D. (2019, March 19). Fractional Differencing Implementation (FD Part 3). KidQuant.\n",
    "http://kidquant.blogspot.com/2019/03/fractional-differencing-implementation.html\n",
    "\n",
    "- Kuttruf, S. (2019, February 27). Preserving Memory in Stationary Time Series - Towards Data Science. Medium. https://towardsdatascience.com/preserving-memory-in-stationary-time-series-6842f7581800\n",
    "\n",
    "- Kuttruf, S. (2019) Python code for fractional differencing of pandas time series. https://gist.github.com/skuttruf/fb82807ab0400fba51c344313eb43466\n",
    "\n",
    "- Amarnani, D. (2019) Post1_Fractional_Differencing.ipynb https://github.com/Dhiraj96/blog_posts/blob/master/post_1%2C2%2C3/Post1_Fractional_Differencing.ipynb"
   ]
  }
 ],
 "metadata": {
  "celltoolbar": "Slideshow",
  "kernelspec": {
   "display_name": "Python 3",
   "language": "python",
   "name": "python3"
  },
  "language_info": {
   "codemirror_mode": {
    "name": "ipython",
    "version": 3
   },
   "file_extension": ".py",
   "mimetype": "text/x-python",
   "name": "python",
   "nbconvert_exporter": "python",
   "pygments_lexer": "ipython3",
   "version": "3.7.6"
  }
 },
 "nbformat": 4,
 "nbformat_minor": 2
}
